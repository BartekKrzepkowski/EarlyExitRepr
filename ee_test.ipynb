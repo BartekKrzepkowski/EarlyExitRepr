{
 "cells": [
  {
   "cell_type": "code",
   "execution_count": null,
   "metadata": {},
   "outputs": [],
   "source": [
    "%load_ext autoreload\n",
    "%autoreload 2"
   ]
  },
  {
   "cell_type": "code",
   "execution_count": null,
   "metadata": {},
   "outputs": [],
   "source": [
    "import torch\n",
    "\n",
    "from src.utils.prepare import prepare_model\n",
    "from src.modules.early_exit import SDN"
   ]
  },
  {
   "cell_type": "code",
   "execution_count": null,
   "metadata": {},
   "outputs": [],
   "source": [
    "type_names = {\n",
    "        'model': 'resnet_tunnel',\n",
    "        'criterion': 'cls',\n",
    "        'dataset': 'cifar10',\n",
    "        'optim': 'sgd',\n",
    "        'scheduler': 'multiplicative'\n",
    "    }\n",
    "\n",
    "NUM_CLASSES = 10\n",
    "device = torch.device(\"cuda\" if torch.cuda.is_available() else \"cpu\")"
   ]
  },
  {
   "cell_type": "code",
   "execution_count": null,
   "metadata": {},
   "outputs": [],
   "source": [
    "model_config = {'backbone_type': 'resnet18',\n",
    "                    'only_features': False,\n",
    "                    'batchnorm_layers': True,\n",
    "                    'width_scale': 1.0,\n",
    "                    'skips': True,\n",
    "                    'modify_resnet': True}\n",
    "model_params = {'model_config': model_config, 'num_classes': NUM_CLASSES, 'dataset_name': type_names['dataset']}\n",
    "\n",
    "model = prepare_model(type_names['model'], model_params=model_params).to(device)"
   ]
  },
  {
   "cell_type": "code",
   "execution_count": null,
   "metadata": {},
   "outputs": [],
   "source": [
    "sample = torch.randn(16,3,32,32).to(device)\n",
    "y_true = torch.randint(0, 10, (16,)).to(device)\n",
    "criterion = torch.nn.CrossEntropyLoss()\n",
    "model_ee = SDN(model, criterion=criterion, ic_idxs=[0,2,4,5], confidence_threshold=0.5, is_model_frozen=True, prob_conf=True, sample=sample)"
   ]
  },
  {
   "cell_type": "code",
   "execution_count": null,
   "metadata": {},
   "outputs": [],
   "source": [
    "model_ee.run_train(sample, y_true)"
   ]
  },
  {
   "cell_type": "code",
   "execution_count": null,
   "metadata": {},
   "outputs": [],
   "source": [
    "model_ee.run_val(sample, y_true)"
   ]
  },
  {
   "cell_type": "code",
   "execution_count": null,
   "metadata": {},
   "outputs": [],
   "source": []
  }
 ],
 "metadata": {
  "kernelspec": {
   "display_name": "ncollapse",
   "language": "python",
   "name": "python3"
  },
  "language_info": {
   "codemirror_mode": {
    "name": "ipython",
    "version": 3
   },
   "file_extension": ".py",
   "mimetype": "text/x-python",
   "name": "python",
   "nbconvert_exporter": "python",
   "pygments_lexer": "ipython3",
   "version": "3.10.13"
  }
 },
 "nbformat": 4,
 "nbformat_minor": 2
}
